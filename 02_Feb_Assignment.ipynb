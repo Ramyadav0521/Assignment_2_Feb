{
 "cells": [
  {
   "cell_type": "markdown",
   "id": "0f04641a-b143-4f6e-ae71-224e679de9e6",
   "metadata": {},
   "source": [
    "#Q1.:-Explain with an example each when to use a for loop and a while loop"
   ]
  },
  {
   "cell_type": "code",
   "execution_count": 14,
   "id": "e65fe69b-4666-4ab9-9c2a-688ee0fc9fcc",
   "metadata": {},
   "outputs": [],
   "source": [
    "# Example of while loop\n",
    " \"\"\" while condition:\n",
    "        code\n",
    "        code\n",
    "# Example of for loop\n",
    "for variables_name in iterables:\n",
    "          print(variables_name)\n",
    "\n",
    "First let’s explain what are loops; Loops are a way of repeating code without having to type it over and over again.\n",
    "\n",
    "The while loop is a kind of a loop that keeps running while a condition is True.\n",
    "\n",
    "The for loops keeps running for a specific number of times.\n",
    "\n",
    "I will give you some example code in Python 3 to make sure you understand this right.\n",
    "\"\"\"\n",
    "#while loop:-\n",
    "i = 1\n",
    "while i<=18:\n",
    "    print(\"You are still young\")\n",
    "    i = i+1\n",
    "print(\"You are old enough now!\")\n",
    "\n",
    "#for loop:-\n",
    "\n",
    "list_1 = [1,2,3,4,5,6,7,8,9,10,11]\n",
    "\n",
    "for a in list_1:\n",
    "    print(a**2)\n",
    "    "
   ]
  },
  {
   "cell_type": "code",
   "execution_count": null,
   "id": "644bbfbb-969d-4eb9-ad41-b614c04d0b05",
   "metadata": {},
   "outputs": [],
   "source": []
  },
  {
   "cell_type": "code",
   "execution_count": null,
   "id": "ef544e39-a866-4e11-9018-db85674a71e0",
   "metadata": {},
   "outputs": [],
   "source": []
  },
  {
   "cell_type": "code",
   "execution_count": null,
   "id": "69f0391c-1342-4066-bd7c-9ae022532cec",
   "metadata": {},
   "outputs": [],
   "source": [
    "#Q2:-Write a python program to print the sum and product of the first 10 natural number using for while loop"
   ]
  },
  {
   "cell_type": "code",
   "execution_count": 15,
   "id": "4c98f437-2724-4397-88b6-d98fccc58c48",
   "metadata": {},
   "outputs": [
    {
     "name": "stdout",
     "output_type": "stream",
     "text": [
      "Sum is 55\n"
     ]
    }
   ],
   "source": [
    "i=1\n",
    "sum=0\n",
    "while i<=10:\n",
    "    sum=sum+i\n",
    "    i=i+1\n",
    "print(\"Sum is\",sum)"
   ]
  },
  {
   "cell_type": "code",
   "execution_count": null,
   "id": "458dd4dd-e971-452b-b559-cb4ed75cb1e5",
   "metadata": {},
   "outputs": [],
   "source": []
  },
  {
   "cell_type": "code",
   "execution_count": null,
   "id": "8e70a7fb-dbd0-478e-8075-7f695e5c0dc4",
   "metadata": {},
   "outputs": [],
   "source": [
    "# Q3. Create a python program to compute the electricity bill for a household. \n",
    "# The per-unit charges in rupees are as follows: For the first 100 units, the user will be charged Rs. 4.5 per \n",
    "# unit, for the next 100 units, the user will be charged Rs. 6 per unit, and for the next 100 units, the user will \n",
    "# be charged Rs. 10 per unit, After 300 units and above the user will be charged Rs. 20 per unit.\n",
    "\n",
    "\n",
    "# You are required to take the units of electricity consumed in a month from the user as input.\n",
    "\n",
    "\n",
    "# Your program must pass this test case: when the unit of electricity consumed by the user in a month is \n",
    "# 310, the total electricity bill should be 2250."
   ]
  },
  {
   "cell_type": "code",
   "execution_count": 1,
   "id": "1f306c8f-9e8b-4ded-b04b-771996ff53b8",
   "metadata": {},
   "outputs": [
    {
     "name": "stdin",
     "output_type": "stream",
     "text": [
      "Enter the number of units consumed:  5\n"
     ]
    },
    {
     "name": "stdout",
     "output_type": "stream",
     "text": [
      "Total electricity bill: Rs. 22.5\n"
     ]
    }
   ],
   "source": [
    "units = int(input(\"Enter the number of units consumed: \"))\n",
    "if units <= 100:\n",
    "    bill = units * 4.5\n",
    "elif units <= 200:\n",
    "    bill = 100 * 4.5 + (units - 100) * 6\n",
    "elif units <= 300:\n",
    "    bill = 100 * 4.5 + 100 * 6 + (units - 200) * 10\n",
    "else:\n",
    "    bill = 100 * 4.5 + 100 * 6 + 100 * 10 + (units - 300) * 20\n",
    "\n",
    "print(\"Total electricity bill: Rs.\", bill)"
   ]
  },
  {
   "cell_type": "code",
   "execution_count": null,
   "id": "5c569dd9-08c8-475c-91b0-95e22ed2a74f",
   "metadata": {},
   "outputs": [],
   "source": []
  },
  {
   "cell_type": "code",
   "execution_count": 34,
   "id": "f41e5576-907d-4838-898b-da1d177e0bdc",
   "metadata": {},
   "outputs": [],
   "source": [
    "#Q4):-Create a list of numbers from 1 to 100. Use for loop and while loop to calculate the cube of each \n",
    "# number and if the cube of that number is divisible by 4 or 5 then append that number in a list and print \n",
    "# that list."
   ]
  },
  {
   "cell_type": "code",
   "execution_count": 40,
   "id": "ffc219c3-eccd-48df-9154-7291bf6e4d5a",
   "metadata": {},
   "outputs": [
    {
     "name": "stdin",
     "output_type": "stream",
     "text": [
      "Enter a number:- 20\n"
     ]
    },
    {
     "name": "stdout",
     "output_type": "stream",
     "text": [
      "[1, 100, 16, 25, 64, 100, 144, 225, 256, 400]\n"
     ]
    }
   ],
   "source": [
    "n = int(input(\"Enter a number:-\"))\n",
    "l1 = [1,100]\n",
    "for a in range(1,n+1):\n",
    "    if a%4==0 or a%5==0:\n",
    "            l1.append(a**2)\n",
    "print(l1) "
   ]
  },
  {
   "cell_type": "code",
   "execution_count": null,
   "id": "235da0dc-7194-4135-a275-d1241212f3d5",
   "metadata": {},
   "outputs": [],
   "source": []
  },
  {
   "cell_type": "code",
   "execution_count": 44,
   "id": "ce8683b8-a2f8-4580-a18c-2fb86dbf0f35",
   "metadata": {},
   "outputs": [
    {
     "name": "stdout",
     "output_type": "stream",
     "text": [
      "Cude number [4, 5, 8, 10, 12, 15, 16, 20, 24, 25, 28, 30, 32, 35, 36, 40, 44, 45, 48, 50, 52, 55, 56, 60, 64, 65, 68, 70, 72, 75, 76, 80, 84, 85, 88, 90, 92, 95, 96, 100]\n"
     ]
    }
   ],
   "source": [
    "l2 = []\n",
    "n = 100\n",
    "i=1\n",
    "while i<=n:\n",
    "    if(i%4==0 or i%5==0):\n",
    "        l2.append(i)\n",
    "    i = i+1\n",
    "print(\"Cude number\",l2)"
   ]
  },
  {
   "cell_type": "code",
   "execution_count": null,
   "id": "4b564269-e995-4f7d-bcc3-a5b31545bb0d",
   "metadata": {},
   "outputs": [],
   "source": []
  },
  {
   "cell_type": "code",
   "execution_count": 45,
   "id": "1b68fed4-cbfb-45ce-8c7a-7a1fe3188aef",
   "metadata": {},
   "outputs": [],
   "source": [
    "# Q5. Write a program to filter count vowels in the below-given string.\n",
    "# string = \"I want to become a data scientist\""
   ]
  },
  {
   "cell_type": "code",
   "execution_count": 2,
   "id": "0e730c7d-fcb1-49e6-81ef-cc4ad1db9319",
   "metadata": {},
   "outputs": [
    {
     "name": "stdout",
     "output_type": "stream",
     "text": [
      "I want to become a data scientist\n",
      "Number vowels in given sentence is 11\n"
     ]
    }
   ],
   "source": [
    "s1 = \"I want to become a data scientist\"\n",
    "s3 = s1.lower()\n",
    "print(s1)\n",
    "count = 0\n",
    "l5 = [\"a\", \"e\", \"i\", \"o\", \"u\"]\n",
    "for s2 in s1:\n",
    "    if s2 in l5:\n",
    "        count = count+1\n",
    "print(\"Number vowels in given sentence is\",count)"
   ]
  },
  {
   "cell_type": "code",
   "execution_count": 6,
   "id": "6db8f4d1-edd0-4c07-be9d-06ea640e9d25",
   "metadata": {},
   "outputs": [
    {
     "data": {
      "text/plain": [
       "'I want to become a data scientist'"
      ]
     },
     "execution_count": 6,
     "metadata": {},
     "output_type": "execute_result"
    }
   ],
   "source": [
    "s1"
   ]
  },
  {
   "cell_type": "code",
   "execution_count": 8,
   "id": "4bd10bdc-7def-4c80-bc6f-96cd1834ccbc",
   "metadata": {},
   "outputs": [
    {
     "data": {
      "text/plain": [
       "'I WANT TO BECOME A DATA SCIENTIST'"
      ]
     },
     "execution_count": 8,
     "metadata": {},
     "output_type": "execute_result"
    }
   ],
   "source": [
    "s1.upper()"
   ]
  },
  {
   "cell_type": "code",
   "execution_count": null,
   "id": "9483bafe-9cdb-4f4b-be26-43106f93a5ce",
   "metadata": {},
   "outputs": [],
   "source": []
  },
  {
   "cell_type": "code",
   "execution_count": null,
   "id": "81659a96-360f-402b-b3a3-e1d0b3415543",
   "metadata": {},
   "outputs": [],
   "source": []
  },
  {
   "cell_type": "code",
   "execution_count": 1,
   "id": "6125bc0f-007a-4ec3-a2f8-b8812d879905",
   "metadata": {},
   "outputs": [],
   "source": [
    "l = []"
   ]
  },
  {
   "cell_type": "code",
   "execution_count": 2,
   "id": "51fc3ea7-a95d-400a-9899-330cbe0bdf3b",
   "metadata": {},
   "outputs": [
    {
     "data": {
      "text/plain": [
       "list"
      ]
     },
     "execution_count": 2,
     "metadata": {},
     "output_type": "execute_result"
    }
   ],
   "source": [
    "type(l)"
   ]
  },
  {
   "cell_type": "code",
   "execution_count": 4,
   "id": "8a9a7ec9-9248-4afb-ae65-e90c7dfe706e",
   "metadata": {},
   "outputs": [
    {
     "name": "stdout",
     "output_type": "stream",
     "text": [
      "[1, 2, 3, 4, 5, 6, 7, 8, 9, 10, 11, 12, 13, 14, 15, 16, 17, 18, 19, 20, 21, 22, 23, 24, 25, 26, 27, 28, 29, 30, 31, 32, 33, 34, 35, 36, 37, 38, 39, 40, 41, 42, 43, 44, 45, 46, 47, 48, 49, 50, 51, 52, 53, 54, 55, 56, 57, 58, 59, 60, 61, 62, 63, 64, 65, 66, 67, 68, 69, 70, 71, 72, 73, 74, 75, 76, 77, 78, 79, 80, 81, 82, 83, 84, 85, 86, 87, 88, 89, 90, 91, 92, 93, 94, 95, 96, 97, 98, 99, 100]\n"
     ]
    }
   ],
   "source": [
    "for a in range(1,101):\n",
    "    l.append(a)\n",
    "print(l)"
   ]
  },
  {
   "cell_type": "code",
   "execution_count": 6,
   "id": "d04cf754-6deb-4f7f-89bd-3f60c3ea4510",
   "metadata": {},
   "outputs": [
    {
     "name": "stdout",
     "output_type": "stream",
     "text": [
      "1\n",
      "8\n",
      "27\n",
      "64\n",
      "125\n",
      "216\n",
      "343\n",
      "512\n",
      "729\n",
      "1000\n",
      "1331\n"
     ]
    }
   ],
   "source": [
    "list_1 = [1,2,3,4,5,6,7,8,9,10,11]\n",
    "for a in list_1:\n",
    "    print(a**2)"
   ]
  },
  {
   "cell_type": "code",
   "execution_count": null,
   "id": "336270c7-14a9-4ba7-8e86-8e99b31660c6",
   "metadata": {},
   "outputs": [],
   "source": []
  }
 ],
 "metadata": {
  "kernelspec": {
   "display_name": "Python 3 (ipykernel)",
   "language": "python",
   "name": "python3"
  },
  "language_info": {
   "codemirror_mode": {
    "name": "ipython",
    "version": 3
   },
   "file_extension": ".py",
   "mimetype": "text/x-python",
   "name": "python",
   "nbconvert_exporter": "python",
   "pygments_lexer": "ipython3",
   "version": "3.10.6"
  }
 },
 "nbformat": 4,
 "nbformat_minor": 5
}
